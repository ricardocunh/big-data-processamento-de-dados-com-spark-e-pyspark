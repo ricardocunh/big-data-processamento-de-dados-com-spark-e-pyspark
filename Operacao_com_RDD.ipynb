{
 "cells": [
  {
   "cell_type": "markdown",
   "id": "98c7f035",
   "metadata": {},
   "source": [
    "### Entendendo as RDDs"
   ]
  },
  {
   "cell_type": "code",
   "execution_count": null,
   "id": "c8462181",
   "metadata": {},
   "outputs": [],
   "source": [
    "# Criando o contexto\n",
    "from  pyspark import SparkContext\n",
    "sc = SparkContext.getOrCreate()"
   ]
  },
  {
   "cell_type": "code",
   "execution_count": null,
   "id": "2f48e68b",
   "metadata": {},
   "outputs": [],
   "source": [
    "# Criação de uma RDD simples\n",
    "rdd1 = sc.parallelize([1,2,3])\n",
    "rdd1.collect()"
   ]
  },
  {
   "cell_type": "code",
   "execution_count": null,
   "id": "3c35ee04",
   "metadata": {},
   "outputs": [],
   "source": [
    "# Utilizando o NumPy\n",
    "import numpy as np\n",
    "A = np.array(range(100))\n",
    "A"
   ]
  },
  {
   "cell_type": "code",
   "execution_count": null,
   "id": "bf9fa210",
   "metadata": {},
   "outputs": [],
   "source": [
    "rdd2 = sc.parallelize(np.array(range(100)))\n",
    "rdd2.take(10)"
   ]
  },
  {
   "cell_type": "code",
   "execution_count": null,
   "id": "53a5ce67",
   "metadata": {},
   "outputs": [],
   "source": [
    "# Verificando a paralelização\n",
    "# Observe que a paralelização da RDD não ocorreu. Ela não foi dividida\n",
    "\n",
    "rdd3 = sc.parallelize(np.array(range(100)))\n",
    "print(rdd3.glom().collect())  # resultado do glom() é uma RDD"
   ]
  },
  {
   "cell_type": "markdown",
   "id": "dfdea95e",
   "metadata": {},
   "source": [
    "### O Particionamento das RDDs é feito por padrão pelo tamanho do cluster, mas também podemos especificar explicitamente, de preferência com o número de cores do PC."
   ]
  },
  {
   "cell_type": "code",
   "execution_count": null,
   "id": "cbed0af5",
   "metadata": {},
   "outputs": [],
   "source": [
    "# Paralelizando explicitamente\n",
    "rdd4 = sc.parallelize(np.array(range(100)), 10) # 100 números divididos em 10 partições"
   ]
  },
  {
   "cell_type": "code",
   "execution_count": null,
   "id": "98c2f59c",
   "metadata": {},
   "outputs": [],
   "source": [
    "# Verificando a paralelização\n",
    "print(rdd4.glom().collect())"
   ]
  },
  {
   "cell_type": "code",
   "execution_count": null,
   "id": "f7c0823b",
   "metadata": {},
   "outputs": [],
   "source": [
    "# Traz o número de partições\n",
    "print(rdd4.getNumPartitions())"
   ]
  },
  {
   "cell_type": "markdown",
   "id": "4a36ff4e",
   "metadata": {},
   "source": [
    "### Paralelizando arquivos"
   ]
  },
  {
   "cell_type": "code",
   "execution_count": null,
   "id": "8e147347",
   "metadata": {},
   "outputs": [],
   "source": [
    "# Lendo o primo basilio -  Eça de Queiroz\n",
    "rddBasilio = sc.textFile(\"Basilio.txt\")\n",
    "print(rddBasilio.take(100))"
   ]
  },
  {
   "cell_type": "code",
   "execution_count": null,
   "id": "627f6720",
   "metadata": {},
   "outputs": [],
   "source": [
    "print(rddBasilio.getNumPartitions())"
   ]
  },
  {
   "cell_type": "code",
   "execution_count": null,
   "id": "46863d0f",
   "metadata": {},
   "outputs": [],
   "source": [
    "rddBasilioPart = sc.textFile(\"Basilio.txt\", 100)"
   ]
  },
  {
   "cell_type": "code",
   "execution_count": null,
   "id": "318255a3",
   "metadata": {},
   "outputs": [],
   "source": [
    "print(rddBasilioPart.getNumPartitions())"
   ]
  },
  {
   "cell_type": "markdown",
   "id": "e6759cab",
   "metadata": {},
   "source": [
    "### Leitura da Bíblia"
   ]
  },
  {
   "cell_type": "code",
   "execution_count": null,
   "id": "0358f5f9",
   "metadata": {},
   "outputs": [],
   "source": [
    "# Verificar se o arquivo está em ANSI\n",
    "rddANSI = sc.textFile(\"Biblia-ANSI.txt\")\n",
    "print(rddANSI.take(1000))"
   ]
  },
  {
   "cell_type": "code",
   "execution_count": null,
   "id": "2da1d62d",
   "metadata": {},
   "outputs": [],
   "source": [
    "# Altere o arquivo para o UTF-8\n",
    "rddBiblia = sc.textFile(\"Biblia-UTF8.txt\")\n",
    "print(rddBiblia.take(1000))"
   ]
  },
  {
   "cell_type": "markdown",
   "id": "e6d7f34b",
   "metadata": {},
   "source": [
    "### Transformações"
   ]
  },
  {
   "cell_type": "markdown",
   "id": "24f5f762",
   "metadata": {},
   "source": [
    "1 - São Operações em um RDD que devolvem um novo RDD\n",
    "\n",
    "2 - Normalmente executam uma função anônima (lambda) sobre cada um dos elementos do RDD\n",
    "\n",
    "3 - Operam sobre lazy"
   ]
  },
  {
   "cell_type": "markdown",
   "id": "6705e6f9",
   "metadata": {},
   "source": [
    "### Utilizando o Intersect"
   ]
  },
  {
   "cell_type": "markdown",
   "id": "a9b4e918",
   "metadata": {},
   "source": [
    "Documentação SPARK\n",
    "https://spark.apache.org/docs/latest/rdd-programming-guide.html"
   ]
  },
  {
   "cell_type": "code",
   "execution_count": null,
   "id": "97e2e9e6",
   "metadata": {},
   "outputs": [],
   "source": [
    "dados1 = sc.parallelize([\"A\",\"B\",\"C\",\"D\",\"E\"])\n",
    "dados2 = sc.parallelize([\"A\",\"E\",\"I\",\"O\",\"U\"])\n",
    "\n",
    "result = dados1.intersection(dados2)\n",
    "result.take(10)"
   ]
  },
  {
   "cell_type": "code",
   "execution_count": null,
   "id": "99f0adfb",
   "metadata": {},
   "outputs": [],
   "source": [
    "jose = rddBiblia.filter(lambda linha: \"José\" in linha)"
   ]
  },
  {
   "cell_type": "code",
   "execution_count": null,
   "id": "fe93bc31",
   "metadata": {},
   "outputs": [],
   "source": [
    "maria = rddBiblia.filter(lambda linha: \"Maria\" in linha)"
   ]
  },
  {
   "cell_type": "code",
   "execution_count": null,
   "id": "977a34ac",
   "metadata": {},
   "outputs": [],
   "source": [
    "biblia = jose.intersection(maria)"
   ]
  },
  {
   "cell_type": "markdown",
   "id": "3304b0b2",
   "metadata": {},
   "source": [
    "### Ações"
   ]
  },
  {
   "cell_type": "markdown",
   "id": "3c8ebadb",
   "metadata": {},
   "source": [
    "1 - Devolvem um resultado\n",
    "\n",
    "2 - Faz todas as transformações anteriores serem executadas"
   ]
  },
  {
   "cell_type": "markdown",
   "id": "51a0600c",
   "metadata": {},
   "source": [
    "### Utilizando o takeSample para gerar amostras"
   ]
  },
  {
   "cell_type": "code",
   "execution_count": null,
   "id": "434fbfa3",
   "metadata": {},
   "outputs": [],
   "source": [
    "# TRUE - Possibilita elementos REPETIDOS\n",
    "# Número - Indica o tamanho da AMOSTRA\n",
    "\n",
    "# Criando um RDD com range de números\n",
    "rdd5 = sc.parellelize(np.array(range(10)))\n",
    "\n",
    "# Contando o número de elementos\n",
    "contador = rdd5.count()\n",
    "\n",
    "# Imprimindo o número de elementos\n",
    "print(\"Número de elementos do range {0}\".format(contador))"
   ]
  },
  {
   "cell_type": "code",
   "execution_count": null,
   "id": "d817cba1",
   "metadata": {},
   "outputs": [],
   "source": [
    "# Utilizando um for para imprimir cada elemento\n",
    "for l in rdd5.takeSample(True,8):\n",
    "    print(l)"
   ]
  },
  {
   "cell_type": "code",
   "execution_count": null,
   "id": "59c249d3",
   "metadata": {},
   "outputs": [],
   "source": [
    "type(rdd5)"
   ]
  },
  {
   "cell_type": "code",
   "execution_count": null,
   "id": "12afebce",
   "metadata": {},
   "outputs": [],
   "source": [
    "lines = biblia.count()"
   ]
  },
  {
   "cell_type": "code",
   "execution_count": null,
   "id": "05ab39af",
   "metadata": {},
   "outputs": [],
   "source": [
    "print(\"Número de linhas: {0}\".format(lines))"
   ]
  },
  {
   "cell_type": "code",
   "execution_count": null,
   "id": "16d58915",
   "metadata": {},
   "outputs": [],
   "source": [
    "for l in biblia.takeSample(False, 5):\n",
    "    print(l)"
   ]
  },
  {
   "cell_type": "code",
   "execution_count": null,
   "id": "0d8eef5e",
   "metadata": {},
   "outputs": [],
   "source": [
    "for l in biblia.takeSample(False,8):\n",
    "    print(l)"
   ]
  },
  {
   "cell_type": "code",
   "execution_count": null,
   "id": "7dc340a4",
   "metadata": {},
   "outputs": [],
   "source": [
    "# Gerando amostras duplicadas\n",
    "for l in biblia.takeSample(True,10):\n",
    "    print(l)"
   ]
  },
  {
   "cell_type": "markdown",
   "id": "175111fc",
   "metadata": {},
   "source": [
    "### Podemos utilizar variáveis"
   ]
  },
  {
   "cell_type": "code",
   "execution_count": null,
   "id": "bb820275",
   "metadata": {},
   "outputs": [],
   "source": [
    "rddBiblia = sc.textFile(\"Biblia-UTF8.txt\")\n",
    "\n",
    "A = \"Jesus\"\n",
    "B = \"Cristo\"\n",
    "\n",
    "linhas1 = rddBiblia.filter(lambda linha: A in linha)\n",
    "linhas2 = rddBiblia.filter(lambda linha: B in linha)\n",
    "\n",
    "inter = linhas1.intersection(linhas2)\n",
    "\n",
    "lines = inter.count()\n",
    "\n",
    "print(\"Número de linhas: \"+ str(lines))\n",
    "\n",
    "for l in inter.takeSample(False, 10):\n",
    "    print(l)"
   ]
  },
  {
   "cell_type": "markdown",
   "id": "5939b368",
   "metadata": {},
   "source": [
    "### E se quisermos todas as linhas?"
   ]
  },
  {
   "cell_type": "code",
   "execution_count": null,
   "id": "481d6139",
   "metadata": {},
   "outputs": [],
   "source": [
    "A = \"Jesus\"\n",
    "B = \"Cristo\"\n",
    "\n",
    "linhas1 = rddBiblia.filter(lambda linha: A in linha)\n",
    "linhas2 = rddBiblia.filter(lambda linha: B in linha)\n",
    "\n",
    "inter = linhas1.intersection(linhas2)\n",
    "\n",
    "lines = inter.count()\n",
    "\n",
    "print(\"Número de linhas: \"+ str(lines))\n",
    "\n",
    "inter.takeSample(False,lines)"
   ]
  },
  {
   "cell_type": "markdown",
   "id": "0839385c",
   "metadata": {},
   "source": [
    "### Podemos utilizar o collect()"
   ]
  },
  {
   "cell_type": "code",
   "execution_count": null,
   "id": "5881be2f",
   "metadata": {},
   "outputs": [],
   "source": [
    "A = \"Jesus\"\n",
    "B = \"Cristo\"\n",
    "\n",
    "linhas1 = rddBiblia.filter(lambda linha: A in linha)\n",
    "linhas2 = rddBiblia.filter(lambda linha: B in linha)\n",
    "\n",
    "inter = linhas1.intersection(linhas2)\n",
    "\n",
    "lines = inter.count()\n",
    "\n",
    "print(\"Número de linhas: \"+ str(lines))\n",
    "print(\"Tipo da RDD inter: \"+ str(type(lines)))\n",
    "\n",
    "for l in inter.collect():\n",
    "    print(l)"
   ]
  }
 ],
 "metadata": {
  "kernelspec": {
   "display_name": "Python 3 (ipykernel)",
   "language": "python",
   "name": "python3"
  },
  "language_info": {
   "codemirror_mode": {
    "name": "ipython",
    "version": 3
   },
   "file_extension": ".py",
   "mimetype": "text/x-python",
   "name": "python",
   "nbconvert_exporter": "python",
   "pygments_lexer": "ipython3",
   "version": "3.9.12"
  }
 },
 "nbformat": 4,
 "nbformat_minor": 5
}
