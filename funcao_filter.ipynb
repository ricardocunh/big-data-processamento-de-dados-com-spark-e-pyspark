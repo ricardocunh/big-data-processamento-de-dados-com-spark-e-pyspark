{
 "cells": [
  {
   "cell_type": "markdown",
   "id": "dde70201",
   "metadata": {},
   "source": [
    "### Utilizando a função Filter"
   ]
  },
  {
   "cell_type": "markdown",
   "id": "a66effb4",
   "metadata": {},
   "source": [
    "A função Filter() é aplicada à uma lista de elementos, retomando valores booleanos. True ou False, de acordo com o filtro aplicado"
   ]
  },
  {
   "cell_type": "code",
   "execution_count": 1,
   "id": "0fa57266",
   "metadata": {},
   "outputs": [],
   "source": [
    "# Definindo um array com a função buiti-in range()\n",
    "lista = [1,2,3,4,5,6,7,8,9]"
   ]
  },
  {
   "cell_type": "code",
   "execution_count": 2,
   "id": "5f6dc5a7",
   "metadata": {},
   "outputs": [
    {
     "name": "stdout",
     "output_type": "stream",
     "text": [
      "[1, 2, 3, 4, 5, 6, 7, 8, 9]\n"
     ]
    }
   ],
   "source": [
    "print(lista)"
   ]
  },
  {
   "cell_type": "code",
   "execution_count": 3,
   "id": "b51bca67",
   "metadata": {},
   "outputs": [
    {
     "data": {
      "text/plain": [
       "list"
      ]
     },
     "execution_count": 3,
     "metadata": {},
     "output_type": "execute_result"
    }
   ],
   "source": [
    "type(lista)"
   ]
  },
  {
   "cell_type": "code",
   "execution_count": 4,
   "id": "c56e4450",
   "metadata": {},
   "outputs": [],
   "source": [
    "# Função para verificar se um número é par\n",
    "def funpar(num):\n",
    "    return num % 2 == 0\n"
   ]
  },
  {
   "cell_type": "code",
   "execution_count": 5,
   "id": "c503e3a9",
   "metadata": {},
   "outputs": [
    {
     "data": {
      "text/plain": [
       "False"
      ]
     },
     "execution_count": 5,
     "metadata": {},
     "output_type": "execute_result"
    }
   ],
   "source": [
    "funpar(501)"
   ]
  },
  {
   "cell_type": "markdown",
   "id": "c0e4411f",
   "metadata": {},
   "source": [
    "### Revisando"
   ]
  },
  {
   "cell_type": "code",
   "execution_count": 6,
   "id": "c58fdd81",
   "metadata": {},
   "outputs": [
    {
     "data": {
      "text/plain": [
       "[False, True, False, True, False, True, False, True, False]"
      ]
     },
     "execution_count": 6,
     "metadata": {},
     "output_type": "execute_result"
    }
   ],
   "source": [
    "# Aplicamos a função utilizado o map como na aula anterior\n",
    "list(map(funpar, lista))"
   ]
  },
  {
   "cell_type": "markdown",
   "id": "735667ee",
   "metadata": {},
   "source": [
    "A função filter tem o mesmo principio de mapeamento da função map, porém ela retorna apenas os valores onde a expressão é verdadeira"
   ]
  },
  {
   "cell_type": "code",
   "execution_count": 7,
   "id": "a8b1fe37",
   "metadata": {},
   "outputs": [
    {
     "data": {
      "text/plain": [
       "[2, 4, 6, 8]"
      ]
     },
     "execution_count": 7,
     "metadata": {},
     "output_type": "execute_result"
    }
   ],
   "source": [
    "list(filter(funpar,lista))"
   ]
  },
  {
   "cell_type": "markdown",
   "id": "2e6e7ecc",
   "metadata": {},
   "source": [
    "No caso abaixo, vamos criar uma lista com frases. Utilizaremos a função count(), que retorna a quantidade de aparições de uma determinada palavra ou frase. Em seguida aplicaremos a função utilizando a função filter()"
   ]
  },
  {
   "cell_type": "code",
   "execution_count": 8,
   "id": "469e7292",
   "metadata": {},
   "outputs": [],
   "source": [
    "pessoa = [\"Amo como ama o amor. Não conheço nenhuma outra razão para amar senão amar. Que queres que te diga, além de que te amo, se o que quero dizer-te é que te amo?\",\n",
    "           \"Às vezes ouço passar o vento; e só de ouvir o vento passar, vale a pena ter nascido.\",\n",
    "           \"Tudo vale a pena quando a alma não é pequena.\",\n",
    "           \"Tenho em mim todos os sonhos do mundo.\",\n",
    "           \"Tenho pensamentos que, se pudesse revelá-los e fazê-los viver, acrescentariam nova luminosidade às estrelas, nova beleza ao mundo e maior amor ao coração dos homens.\",\n",
    "           \"O poeta é um fingidor. Finge tão completamente, que chega a fingir que é dor a dor que deveras sente.\",\n",
    "           \"O próprio viver é morrer, porque não temos um dia a mais na nossa vida que não tenhamos, nisso, um dia a menos nela.\",\n",
    "           \"Matar o sonho é matarmo-nos. É mutilar a nossa alma. O sonho é o que temos de realmente nosso, de impenetravelmente e inexpugnavelmente nosso.\"]"
   ]
  },
  {
   "cell_type": "code",
   "execution_count": 9,
   "id": "c5682379",
   "metadata": {},
   "outputs": [],
   "source": [
    "# Função que conta as palavras\n",
    "def cont_words(a):\n",
    "    return a.count(\"amor\") >= 1"
   ]
  },
  {
   "cell_type": "markdown",
   "id": "f0c2508b",
   "metadata": {},
   "source": [
    "### Aplicando filter()"
   ]
  },
  {
   "cell_type": "code",
   "execution_count": 10,
   "id": "93cb242c",
   "metadata": {},
   "outputs": [
    {
     "data": {
      "text/plain": [
       "['Amo como ama o amor. Não conheço nenhuma outra razão para amar senão amar. Que queres que te diga, além de que te amo, se o que quero dizer-te é que te amo?',\n",
       " 'Tenho pensamentos que, se pudesse revelá-los e fazê-los viver, acrescentariam nova luminosidade às estrelas, nova beleza ao mundo e maior amor ao coração dos homens.']"
      ]
     },
     "execution_count": 10,
     "metadata": {},
     "output_type": "execute_result"
    }
   ],
   "source": [
    "list(filter(cont_words, pessoa))"
   ]
  },
  {
   "cell_type": "markdown",
   "id": "93b672c4",
   "metadata": {},
   "source": [
    "### Aplicando map()"
   ]
  },
  {
   "cell_type": "code",
   "execution_count": 11,
   "id": "7ba468da",
   "metadata": {},
   "outputs": [
    {
     "data": {
      "text/plain": [
       "[True, False, False, False, True, False, False, False]"
      ]
     },
     "execution_count": 11,
     "metadata": {},
     "output_type": "execute_result"
    }
   ],
   "source": [
    "# Aplicando a função MAP()\n",
    "list(map(cont_words, pessoa))"
   ]
  },
  {
   "cell_type": "markdown",
   "id": "e509c1af",
   "metadata": {},
   "source": [
    "### Reduce"
   ]
  },
  {
   "cell_type": "markdown",
   "id": "5d8b7919",
   "metadata": {},
   "source": [
    "A função reduce() aplica uma função a uma sequência de elementos, até reduzir a sequência a um único elemento"
   ]
  },
  {
   "cell_type": "code",
   "execution_count": 12,
   "id": "d3751e74",
   "metadata": {},
   "outputs": [],
   "source": [
    "from functools import reduce"
   ]
  },
  {
   "cell_type": "code",
   "execution_count": 13,
   "id": "d079b9ae",
   "metadata": {},
   "outputs": [],
   "source": [
    "soma = reduce((lambda x, y: x +y), range(9000000))"
   ]
  },
  {
   "cell_type": "code",
   "execution_count": 14,
   "id": "1ac671a5",
   "metadata": {},
   "outputs": [
    {
     "data": {
      "text/plain": [
       "40499995500000"
      ]
     },
     "execution_count": 14,
     "metadata": {},
     "output_type": "execute_result"
    }
   ],
   "source": [
    "soma"
   ]
  }
 ],
 "metadata": {
  "kernelspec": {
   "display_name": "Python 3 (ipykernel)",
   "language": "python",
   "name": "python3"
  },
  "language_info": {
   "codemirror_mode": {
    "name": "ipython",
    "version": 3
   },
   "file_extension": ".py",
   "mimetype": "text/x-python",
   "name": "python",
   "nbconvert_exporter": "python",
   "pygments_lexer": "ipython3",
   "version": "3.9.12"
  }
 },
 "nbformat": 4,
 "nbformat_minor": 5
}
