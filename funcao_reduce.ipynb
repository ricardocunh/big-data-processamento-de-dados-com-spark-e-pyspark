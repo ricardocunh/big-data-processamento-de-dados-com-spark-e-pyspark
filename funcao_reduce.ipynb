{
 "cells": [
  {
   "cell_type": "markdown",
   "id": "bb04936d",
   "metadata": {},
   "source": [
    "### Reduce "
   ]
  },
  {
   "cell_type": "markdown",
   "id": "83d317ad",
   "metadata": {},
   "source": [
    "Aplica uma função a todos os elementos de uma lista, até que os mesmos sejam reduzidos a um só"
   ]
  },
  {
   "cell_type": "code",
   "execution_count": 1,
   "id": "90816a18",
   "metadata": {},
   "outputs": [],
   "source": [
    "# A função reduce() não faz parte das funções built in do Python. Temos que importar a biblioteca functools\n",
    "from functools import reduce"
   ]
  },
  {
   "cell_type": "code",
   "execution_count": 2,
   "id": "2a5dcf6e",
   "metadata": {},
   "outputs": [],
   "source": [
    "elementos = range(1,100)"
   ]
  },
  {
   "cell_type": "code",
   "execution_count": 3,
   "id": "517b09f0",
   "metadata": {},
   "outputs": [
    {
     "name": "stdout",
     "output_type": "stream",
     "text": [
      "range(1, 100)\n"
     ]
    }
   ],
   "source": [
    "print(elementos)"
   ]
  },
  {
   "cell_type": "code",
   "execution_count": 4,
   "id": "a0c47c29",
   "metadata": {},
   "outputs": [],
   "source": [
    "def acumulador(lista):\n",
    "    acumulado = 0\n",
    "    for item in lista:\n",
    "        acumulado = item + acumulado\n",
    "    return acumulado"
   ]
  },
  {
   "cell_type": "code",
   "execution_count": 5,
   "id": "c4a011f3",
   "metadata": {},
   "outputs": [
    {
     "name": "stdout",
     "output_type": "stream",
     "text": [
      "4950\n"
     ]
    }
   ],
   "source": [
    "print(acumulador(elementos))"
   ]
  },
  {
   "cell_type": "markdown",
   "id": "43e4a9e5",
   "metadata": {},
   "source": [
    "### Aplicando a função Reduce()"
   ]
  },
  {
   "cell_type": "code",
   "execution_count": 6,
   "id": "ad8a2dfd",
   "metadata": {},
   "outputs": [],
   "source": [
    "soma = reduce((lambda x, y: x + y), elementos)"
   ]
  },
  {
   "cell_type": "code",
   "execution_count": 7,
   "id": "7e0c8362",
   "metadata": {},
   "outputs": [
    {
     "data": {
      "text/plain": [
       "4950"
      ]
     },
     "execution_count": 7,
     "metadata": {},
     "output_type": "execute_result"
    }
   ],
   "source": [
    "soma"
   ]
  },
  {
   "cell_type": "markdown",
   "id": "de367b0b",
   "metadata": {},
   "source": [
    "Determinando o maior número da lista com reduce()"
   ]
  },
  {
   "cell_type": "code",
   "execution_count": 9,
   "id": "78d46a3b",
   "metadata": {},
   "outputs": [
    {
     "data": {
      "text/plain": [
       "1000"
      ]
     },
     "execution_count": 9,
     "metadata": {},
     "output_type": "execute_result"
    }
   ],
   "source": [
    "lista = [470,11,42,102,13,4,645,87,1000]\n",
    "\n",
    "reduce(lambda a,b: a if (a > b) else b,lista)"
   ]
  },
  {
   "cell_type": "code",
   "execution_count": 10,
   "id": "8a89c9ec",
   "metadata": {},
   "outputs": [
    {
     "data": {
      "text/plain": [
       "1000"
      ]
     },
     "execution_count": 10,
     "metadata": {},
     "output_type": "execute_result"
    }
   ],
   "source": [
    "lista\n",
    "f = lambda a,b: a if (a > b) else b\n",
    "\n",
    "reduce(f,lista)"
   ]
  },
  {
   "cell_type": "markdown",
   "id": "eebdadf9",
   "metadata": {},
   "source": [
    "Determinamos o menor número da lista com reduce()"
   ]
  },
  {
   "cell_type": "code",
   "execution_count": 11,
   "id": "fa28a18e",
   "metadata": {},
   "outputs": [
    {
     "data": {
      "text/plain": [
       "4"
      ]
     },
     "execution_count": 11,
     "metadata": {},
     "output_type": "execute_result"
    }
   ],
   "source": [
    "f = lambda a, b: a if (a < b) else b\n",
    "\n",
    "reduce(f, lista)"
   ]
  },
  {
   "cell_type": "markdown",
   "id": "ca45f766",
   "metadata": {},
   "source": [
    "### Utilizando reduce como função do Spark"
   ]
  },
  {
   "cell_type": "code",
   "execution_count": 17,
   "id": "220a98eb",
   "metadata": {},
   "outputs": [
    {
     "name": "stdout",
     "output_type": "stream",
     "text": [
      "55\n"
     ]
    }
   ],
   "source": [
    "# Sempre criar o context no spark\n",
    "from pyspark import SparkContext\n",
    "sc = SparkContext.getOrCreate()\n",
    "\n",
    "rddList = sc.parallelize([1,2,3,4,5,6,7,8,9,10], 2)\n",
    "\n",
    "# No Spark o reduce não precisa importar como no python, ele já faz parte do Spark\n",
    "soma = rddList.reduce(lambda acumulador, numero: acumulador + numero)\n",
    "print(soma)"
   ]
  },
  {
   "cell_type": "code",
   "execution_count": 18,
   "id": "9ba724df",
   "metadata": {},
   "outputs": [
    {
     "name": "stdout",
     "output_type": "stream",
     "text": [
      "3628800\n"
     ]
    }
   ],
   "source": [
    "# Aplicando redução com multiplicação\n",
    "\n",
    "multi = rddList.reduce(lambda acumulador, numero: acumulador * numero)\n",
    "print(multi)"
   ]
  },
  {
   "cell_type": "code",
   "execution_count": 20,
   "id": "aa8f4e27",
   "metadata": {},
   "outputs": [
    {
     "name": "stdout",
     "output_type": "stream",
     "text": [
      "55\n"
     ]
    }
   ],
   "source": [
    "# Podemos também definir uma função\n",
    "def soma(acum, n):\n",
    "    return acum + n\n",
    "\n",
    "resultado = rddList.reduce(soma)\n",
    "print(resultado)"
   ]
  },
  {
   "cell_type": "code",
   "execution_count": 25,
   "id": "36d6cbc4",
   "metadata": {},
   "outputs": [
    {
     "name": "stdout",
     "output_type": "stream",
     "text": [
      "4999950000\n"
     ]
    }
   ],
   "source": [
    "rddList = sc.parallelize(range(100000), 10)\n",
    "\n",
    "soma = rddList.reduce(lambda acumulador, numero: acumulador + numero)\n",
    "print(soma)"
   ]
  },
  {
   "cell_type": "code",
   "execution_count": null,
   "id": "f45465a8",
   "metadata": {},
   "outputs": [],
   "source": []
  }
 ],
 "metadata": {
  "kernelspec": {
   "display_name": "Python 3 (ipykernel)",
   "language": "python",
   "name": "python3"
  },
  "language_info": {
   "codemirror_mode": {
    "name": "ipython",
    "version": 3
   },
   "file_extension": ".py",
   "mimetype": "text/x-python",
   "name": "python",
   "nbconvert_exporter": "python",
   "pygments_lexer": "ipython3",
   "version": "3.9.12"
  }
 },
 "nbformat": 4,
 "nbformat_minor": 5
}
