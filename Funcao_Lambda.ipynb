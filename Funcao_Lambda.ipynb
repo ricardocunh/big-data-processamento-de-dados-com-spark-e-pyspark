{
 "cells": [
  {
   "cell_type": "markdown",
   "id": "3423ae08",
   "metadata": {},
   "source": [
    "## Função Lambda"
   ]
  },
  {
   "cell_type": "markdown",
   "id": "a5be2205",
   "metadata": {},
   "source": [
    "As funções lambda não são definidas, portanto, não recebem nome. São conhecidas por isso como funções anônimas. A vantagem das funções lambda são\n",
    "uma menor utilização de memória, ja que são executadas \"on the fly\" e deixam o código mas limpo."
   ]
  },
  {
   "cell_type": "markdown",
   "id": "e753d4c0",
   "metadata": {},
   "source": [
    "#### Utilizando 3 Linhas de Código"
   ]
  },
  {
   "cell_type": "code",
   "execution_count": 3,
   "id": "b96c0e5a",
   "metadata": {},
   "outputs": [],
   "source": [
    "def quadrado(num):\n",
    "    a = num**2\n",
    "    return a"
   ]
  },
  {
   "cell_type": "code",
   "execution_count": 4,
   "id": "e4d64914",
   "metadata": {},
   "outputs": [
    {
     "data": {
      "text/plain": [
       "25"
      ]
     },
     "execution_count": 4,
     "metadata": {},
     "output_type": "execute_result"
    }
   ],
   "source": [
    "quadrado(5)"
   ]
  },
  {
   "cell_type": "markdown",
   "id": "19896425",
   "metadata": {},
   "source": [
    "#### Utilizando 2 Linhas de código"
   ]
  },
  {
   "cell_type": "code",
   "execution_count": 5,
   "id": "afdd8c08",
   "metadata": {},
   "outputs": [],
   "source": [
    "def quadrado(num):\n",
    "    return num**2"
   ]
  },
  {
   "cell_type": "code",
   "execution_count": 6,
   "id": "a66968a7",
   "metadata": {},
   "outputs": [
    {
     "data": {
      "text/plain": [
       "25"
      ]
     },
     "execution_count": 6,
     "metadata": {},
     "output_type": "execute_result"
    }
   ],
   "source": [
    "quadrado(5)"
   ]
  },
  {
   "cell_type": "markdown",
   "id": "640a2372",
   "metadata": {},
   "source": [
    "#### Utilizando 1 Linha de código"
   ]
  },
  {
   "cell_type": "code",
   "execution_count": 7,
   "id": "146fb896",
   "metadata": {},
   "outputs": [],
   "source": [
    "def quadrado(num): return num**2"
   ]
  },
  {
   "cell_type": "code",
   "execution_count": 8,
   "id": "da330349",
   "metadata": {},
   "outputs": [
    {
     "data": {
      "text/plain": [
       "25"
      ]
     },
     "execution_count": 8,
     "metadata": {},
     "output_type": "execute_result"
    }
   ],
   "source": [
    "quadrado(5)"
   ]
  },
  {
   "cell_type": "markdown",
   "id": "c2410408",
   "metadata": {},
   "source": [
    "### Lambda"
   ]
  },
  {
   "cell_type": "code",
   "execution_count": 9,
   "id": "d65753f1",
   "metadata": {},
   "outputs": [
    {
     "data": {
      "text/plain": [
       "<function __main__.<lambda>(num)>"
      ]
     },
     "execution_count": 9,
     "metadata": {},
     "output_type": "execute_result"
    }
   ],
   "source": [
    "lambda num: num**2"
   ]
  },
  {
   "cell_type": "code",
   "execution_count": 12,
   "id": "16ae853d",
   "metadata": {},
   "outputs": [],
   "source": [
    "# Criando uma variavel para receber o valor da Lambda\n",
    "quadrado = lambda num: num**2"
   ]
  },
  {
   "cell_type": "code",
   "execution_count": 13,
   "id": "20086a2f",
   "metadata": {},
   "outputs": [
    {
     "data": {
      "text/plain": [
       "25"
      ]
     },
     "execution_count": 13,
     "metadata": {},
     "output_type": "execute_result"
    }
   ],
   "source": [
    "quadrado(5)"
   ]
  },
  {
   "cell_type": "code",
   "execution_count": 14,
   "id": "67cfe6c8",
   "metadata": {},
   "outputs": [],
   "source": [
    "# Retornando o último elemento\n",
    "ultimo = lambda s: s[-1]"
   ]
  },
  {
   "cell_type": "code",
   "execution_count": 15,
   "id": "5a09442e",
   "metadata": {},
   "outputs": [
    {
     "data": {
      "text/plain": [
       "'S'"
      ]
     },
     "execution_count": 15,
     "metadata": {},
     "output_type": "execute_result"
    }
   ],
   "source": [
    "ultimo(\"UNIDADOS\")"
   ]
  },
  {
   "cell_type": "markdown",
   "id": "f9f1583a",
   "metadata": {},
   "source": [
    "### Lambda Booleanas"
   ]
  },
  {
   "cell_type": "code",
   "execution_count": 17,
   "id": "7230c11d",
   "metadata": {},
   "outputs": [],
   "source": [
    "# Número impar\n",
    "impar = lambda x: x%2 > 0"
   ]
  },
  {
   "cell_type": "code",
   "execution_count": 23,
   "id": "07c13541",
   "metadata": {},
   "outputs": [
    {
     "data": {
      "text/plain": [
       "False"
      ]
     },
     "execution_count": 23,
     "metadata": {},
     "output_type": "execute_result"
    }
   ],
   "source": [
    "impar(4)"
   ]
  },
  {
   "cell_type": "code",
   "execution_count": 21,
   "id": "2c8051e8",
   "metadata": {},
   "outputs": [],
   "source": [
    "# Número maior que 10\n",
    "maior = lambda x: x > 10"
   ]
  },
  {
   "cell_type": "code",
   "execution_count": 22,
   "id": "0d76faaf",
   "metadata": {},
   "outputs": [
    {
     "data": {
      "text/plain": [
       "True"
      ]
     },
     "execution_count": 22,
     "metadata": {},
     "output_type": "execute_result"
    }
   ],
   "source": [
    "maior(11)"
   ]
  },
  {
   "cell_type": "markdown",
   "id": "ee4f47d5",
   "metadata": {},
   "source": [
    "### Listas"
   ]
  },
  {
   "cell_type": "code",
   "execution_count": null,
   "id": "00e6f623",
   "metadata": {},
   "outputs": [],
   "source": [
    "lista = [2,3,4,5]"
   ]
  },
  {
   "cell_type": "code",
   "execution_count": null,
   "id": "63db4f5e",
   "metadata": {},
   "outputs": [],
   "source": [
    "dobro = lambda x: x * 2"
   ]
  },
  {
   "cell_type": "code",
   "execution_count": null,
   "id": "f39b5739",
   "metadata": {},
   "outputs": [],
   "source": [
    "# Aqui temos que utilizar a função MAP, que veremos um pouco mais a frente\n",
    "dobro(lista)"
   ]
  },
  {
   "cell_type": "code",
   "execution_count": null,
   "id": "cb99224c",
   "metadata": {},
   "outputs": [],
   "source": [
    "soma = lambda x,y : x*y"
   ]
  },
  {
   "cell_type": "code",
   "execution_count": null,
   "id": "8b24c7fa",
   "metadata": {},
   "outputs": [],
   "source": [
    "soma(10,10)"
   ]
  },
  {
   "cell_type": "code",
   "execution_count": null,
   "id": "12910e95",
   "metadata": {},
   "outputs": [],
   "source": [
    "# Ordenando inversamente\n",
    "reverse = lambda s: s[::-1]"
   ]
  },
  {
   "cell_type": "markdown",
   "id": "912c6a63",
   "metadata": {},
   "source": [
    "### List Comprehensions"
   ]
  },
  {
   "cell_type": "markdown",
   "id": "141966d5",
   "metadata": {},
   "source": [
    "É a forma com que fazemos filtros e mapeanentos dentro de uma lista. Assemelham-se ás funções filter() e map() que veremos mas á frente"
   ]
  },
  {
   "cell_type": "code",
   "execution_count": 1,
   "id": "8f776717",
   "metadata": {},
   "outputs": [],
   "source": [
    "lista = [1,2,3,4,5,6,7,8,9,10]"
   ]
  },
  {
   "cell_type": "code",
   "execution_count": 2,
   "id": "3a7f41cd",
   "metadata": {},
   "outputs": [
    {
     "name": "stdout",
     "output_type": "stream",
     "text": [
      "[1, 2, 3, 4, 5, 6, 7, 8, 9, 10]\n"
     ]
    }
   ],
   "source": [
    "print(lista)"
   ]
  },
  {
   "cell_type": "code",
   "execution_count": 3,
   "id": "9f27805f",
   "metadata": {},
   "outputs": [
    {
     "data": {
      "text/plain": [
       "list"
      ]
     },
     "execution_count": 3,
     "metadata": {},
     "output_type": "execute_result"
    }
   ],
   "source": [
    "type(lista)"
   ]
  },
  {
   "cell_type": "code",
   "execution_count": 4,
   "id": "168efa8e",
   "metadata": {},
   "outputs": [
    {
     "data": {
      "text/plain": [
       "[1, 2, 3, 4, 5, 6, 7, 8, 9, 10, 1, 2, 3, 4, 5, 6, 7, 8, 9, 10]"
      ]
     },
     "execution_count": 4,
     "metadata": {},
     "output_type": "execute_result"
    }
   ],
   "source": [
    "dobro = lambda x: x * 2\n",
    "dobro(lista)"
   ]
  },
  {
   "cell_type": "code",
   "execution_count": 7,
   "id": "7640a0dd",
   "metadata": {},
   "outputs": [
    {
     "name": "stdout",
     "output_type": "stream",
     "text": [
      "[1, 4, 9, 16, 25, 36, 49, 64, 81, 100]\n"
     ]
    }
   ],
   "source": [
    "# Imprimindo uma lista com o quadrado de todos os números de lista\n",
    "lst = []\n",
    "\n",
    "for i in lista:\n",
    "    num = i ** 2\n",
    "    lst.append(num)\n",
    "print(lst)"
   ]
  },
  {
   "cell_type": "code",
   "execution_count": 8,
   "id": "23b93b7a",
   "metadata": {},
   "outputs": [
    {
     "data": {
      "text/plain": [
       "[1, 4, 9, 16, 25, 36, 49, 64, 81, 100]"
      ]
     },
     "execution_count": 8,
     "metadata": {},
     "output_type": "execute_result"
    }
   ],
   "source": [
    "# Elevar ao quadrado para cada item da lista\n",
    "[item ** 2 for item in lista]"
   ]
  },
  {
   "cell_type": "code",
   "execution_count": 9,
   "id": "e1b81139",
   "metadata": {},
   "outputs": [
    {
     "data": {
      "text/plain": [
       "[2, 4, 6, 8, 10]"
      ]
     },
     "execution_count": 9,
     "metadata": {},
     "output_type": "execute_result"
    }
   ],
   "source": [
    "# Para cada item na lista, verificar se o item é par\n",
    "[item for item in lista if item % 2 == 0]"
   ]
  },
  {
   "cell_type": "code",
   "execution_count": 10,
   "id": "ea5259cb",
   "metadata": {},
   "outputs": [
    {
     "data": {
      "text/plain": [
       "[4, 16, 36, 64, 100]"
      ]
     },
     "execution_count": 10,
     "metadata": {},
     "output_type": "execute_result"
    }
   ],
   "source": [
    "# Elevar ao quadrado e para cada item da lista, verificar se é par\n",
    "[item ** 2 for item in lista if item % 2 == 0]"
   ]
  },
  {
   "cell_type": "code",
   "execution_count": 11,
   "id": "dc6b01b0",
   "metadata": {},
   "outputs": [
    {
     "data": {
      "text/plain": [
       "[3.0, 4.0, 5.0, 6.0]"
      ]
     },
     "execution_count": 11,
     "metadata": {},
     "output_type": "execute_result"
    }
   ],
   "source": [
    "# Convertendo para float cada item da lista e imprima os maiores ou iguais a 3\n",
    "lista = ['1','2','3','4','5','6']\n",
    "\n",
    "[float(item) for item in lista if item >= '3']"
   ]
  },
  {
   "cell_type": "markdown",
   "id": "01ea3318",
   "metadata": {},
   "source": [
    "### Utilizando a função MAP"
   ]
  },
  {
   "cell_type": "markdown",
   "id": "3dd07a96",
   "metadata": {},
   "source": [
    "A função map() tem o objetivo de mapear valores, de forma a realizar transformações mais rapidamente sem a necessidade de iterações. Essa caracteristica é muito utilizada e útil no processamento de Big Data, mais precisamente com os frameworks Hadoop Map Reduce e Spark."
   ]
  },
  {
   "cell_type": "code",
   "execution_count": 12,
   "id": "189915cc",
   "metadata": {},
   "outputs": [],
   "source": [
    "# Definindo uma lista de valores\n",
    "lista = [2,4,6,8,10]"
   ]
  },
  {
   "cell_type": "code",
   "execution_count": 13,
   "id": "0c414d6c",
   "metadata": {},
   "outputs": [
    {
     "data": {
      "text/plain": [
       "[2, 4, 6, 8, 10]"
      ]
     },
     "execution_count": 13,
     "metadata": {},
     "output_type": "execute_result"
    }
   ],
   "source": [
    "# Imprimindo a lista\n",
    "lista"
   ]
  }
 ],
 "metadata": {
  "kernelspec": {
   "display_name": "Python 3 (ipykernel)",
   "language": "python",
   "name": "python3"
  },
  "language_info": {
   "codemirror_mode": {
    "name": "ipython",
    "version": 3
   },
   "file_extension": ".py",
   "mimetype": "text/x-python",
   "name": "python",
   "nbconvert_exporter": "python",
   "pygments_lexer": "ipython3",
   "version": "3.9.12"
  }
 },
 "nbformat": 4,
 "nbformat_minor": 5
}
